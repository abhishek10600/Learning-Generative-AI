{
 "cells": [
  {
   "cell_type": "code",
   "execution_count": 1,
   "metadata": {},
   "outputs": [],
   "source": [
    "import os\n",
    "import openai\n",
    "from dotenv import load_dotenv"
   ]
  },
  {
   "cell_type": "code",
   "execution_count": 2,
   "metadata": {},
   "outputs": [
    {
     "name": "stdout",
     "output_type": "stream",
     "text": [
      "Name: openai\n",
      "Version: 1.54.5\n",
      "Summary: The official Python library for the openai API\n",
      "Home-page: https://github.com/openai/openai-python\n",
      "Author: \n",
      "Author-email: OpenAI <support@openai.com>\n",
      "License: Apache-2.0\n",
      "Location: /home/revolution/Development/artificial-intelligence/generative ai/course/OpenAI-Demo-Projects/Basics/env/lib/python3.13/site-packages\n",
      "Requires: anyio, distro, httpx, jiter, pydantic, sniffio, tqdm, typing-extensions\n",
      "Required-by: \n"
     ]
    }
   ],
   "source": [
    "!pip show openai"
   ]
  },
  {
   "cell_type": "code",
   "execution_count": 3,
   "metadata": {},
   "outputs": [],
   "source": [
    "load_dotenv()\n",
    "OPENAI_API_KEY = os.getenv(\"OPENAI_API_KEY\")"
   ]
  },
  {
   "cell_type": "code",
   "execution_count": 4,
   "metadata": {},
   "outputs": [],
   "source": [
    "openai.api_key = OPENAI_API_KEY"
   ]
  },
  {
   "cell_type": "code",
   "execution_count": 5,
   "metadata": {},
   "outputs": [
    {
     "data": {
      "text/plain": [
       "[Model(id='gpt-4-1106-preview', created=1698957206, object='model', owned_by='system'),\n",
       " Model(id='o1-preview', created=1725648897, object='model', owned_by='system'),\n",
       " Model(id='gpt-4', created=1687882411, object='model', owned_by='openai'),\n",
       " Model(id='o1-preview-2024-09-12', created=1725648865, object='model', owned_by='system'),\n",
       " Model(id='gpt-4o-2024-11-20', created=1731975040, object='model', owned_by='system'),\n",
       " Model(id='o1-mini-2024-09-12', created=1725648979, object='model', owned_by='system'),\n",
       " Model(id='dall-e-2', created=1698798177, object='model', owned_by='system'),\n",
       " Model(id='chatgpt-4o-latest', created=1723515131, object='model', owned_by='system'),\n",
       " Model(id='gpt-3.5-turbo', created=1677610602, object='model', owned_by='openai'),\n",
       " Model(id='gpt-4o-mini-2024-07-18', created=1721172717, object='model', owned_by='system'),\n",
       " Model(id='gpt-3.5-turbo-0125', created=1706048358, object='model', owned_by='system'),\n",
       " Model(id='babbage-002', created=1692634615, object='model', owned_by='system'),\n",
       " Model(id='gpt-4-turbo-2024-04-09', created=1712601677, object='model', owned_by='system'),\n",
       " Model(id='davinci-002', created=1692634301, object='model', owned_by='system'),\n",
       " Model(id='dall-e-3', created=1698785189, object='model', owned_by='system'),\n",
       " Model(id='text-embedding-3-large', created=1705953180, object='model', owned_by='system'),\n",
       " Model(id='gpt-4o-mini', created=1721172741, object='model', owned_by='system'),\n",
       " Model(id='gpt-3.5-turbo-16k', created=1683758102, object='model', owned_by='openai-internal'),\n",
       " Model(id='tts-1-hd-1106', created=1699053533, object='model', owned_by='system'),\n",
       " Model(id='gpt-4-turbo-preview', created=1706037777, object='model', owned_by='system'),\n",
       " Model(id='gpt-4-turbo', created=1712361441, object='model', owned_by='system'),\n",
       " Model(id='text-embedding-ada-002', created=1671217299, object='model', owned_by='openai-internal'),\n",
       " Model(id='gpt-4-0613', created=1686588896, object='model', owned_by='openai'),\n",
       " Model(id='text-embedding-3-small', created=1705948997, object='model', owned_by='system'),\n",
       " Model(id='tts-1-hd', created=1699046015, object='model', owned_by='system'),\n",
       " Model(id='o1-mini', created=1725649008, object='model', owned_by='system'),\n",
       " Model(id='gpt-4o-2024-08-06', created=1722814719, object='model', owned_by='system'),\n",
       " Model(id='gpt-3.5-turbo-1106', created=1698959748, object='model', owned_by='system'),\n",
       " Model(id='gpt-4o', created=1715367049, object='model', owned_by='system'),\n",
       " Model(id='gpt-3.5-turbo-instruct', created=1692901427, object='model', owned_by='system'),\n",
       " Model(id='gpt-4o-audio-preview', created=1727460443, object='model', owned_by='system'),\n",
       " Model(id='whisper-1', created=1677532384, object='model', owned_by='openai-internal'),\n",
       " Model(id='gpt-4o-audio-preview-2024-10-01', created=1727389042, object='model', owned_by='system'),\n",
       " Model(id='gpt-4-0125-preview', created=1706037612, object='model', owned_by='system'),\n",
       " Model(id='gpt-4o-realtime-preview', created=1727659998, object='model', owned_by='system'),\n",
       " Model(id='tts-1', created=1681940951, object='model', owned_by='openai-internal'),\n",
       " Model(id='tts-1-1106', created=1699053241, object='model', owned_by='system'),\n",
       " Model(id='gpt-3.5-turbo-instruct-0914', created=1694122472, object='model', owned_by='system'),\n",
       " Model(id='gpt-4o-2024-05-13', created=1715368132, object='model', owned_by='system'),\n",
       " Model(id='gpt-4o-realtime-preview-2024-10-01', created=1727131766, object='model', owned_by='system')]"
      ]
     },
     "execution_count": 5,
     "metadata": {},
     "output_type": "execute_result"
    }
   ],
   "source": [
    "openai.models.list().data"
   ]
  },
  {
   "cell_type": "code",
   "execution_count": 7,
   "metadata": {},
   "outputs": [],
   "source": [
    "import pandas as pd"
   ]
  },
  {
   "cell_type": "code",
   "execution_count": 8,
   "metadata": {},
   "outputs": [],
   "source": [
    "model_df = pd.DataFrame(openai.models.list().data)"
   ]
  },
  {
   "cell_type": "code",
   "execution_count": 37,
   "metadata": {},
   "outputs": [
    {
     "data": {
      "text/html": [
       "<div>\n",
       "<style scoped>\n",
       "    .dataframe tbody tr th:only-of-type {\n",
       "        vertical-align: middle;\n",
       "    }\n",
       "\n",
       "    .dataframe tbody tr th {\n",
       "        vertical-align: top;\n",
       "    }\n",
       "\n",
       "    .dataframe thead th {\n",
       "        text-align: right;\n",
       "    }\n",
       "</style>\n",
       "<table border=\"1\" class=\"dataframe\">\n",
       "  <thead>\n",
       "    <tr style=\"text-align: right;\">\n",
       "      <th></th>\n",
       "      <th>0</th>\n",
       "      <th>1</th>\n",
       "      <th>2</th>\n",
       "      <th>3</th>\n",
       "    </tr>\n",
       "  </thead>\n",
       "  <tbody>\n",
       "    <tr>\n",
       "      <th>0</th>\n",
       "      <td>(id, gpt-4-1106-preview)</td>\n",
       "      <td>(created, 1698957206)</td>\n",
       "      <td>(object, model)</td>\n",
       "      <td>(owned_by, system)</td>\n",
       "    </tr>\n",
       "    <tr>\n",
       "      <th>1</th>\n",
       "      <td>(id, o1-preview)</td>\n",
       "      <td>(created, 1725648897)</td>\n",
       "      <td>(object, model)</td>\n",
       "      <td>(owned_by, system)</td>\n",
       "    </tr>\n",
       "    <tr>\n",
       "      <th>2</th>\n",
       "      <td>(id, gpt-4)</td>\n",
       "      <td>(created, 1687882411)</td>\n",
       "      <td>(object, model)</td>\n",
       "      <td>(owned_by, openai)</td>\n",
       "    </tr>\n",
       "    <tr>\n",
       "      <th>3</th>\n",
       "      <td>(id, o1-preview-2024-09-12)</td>\n",
       "      <td>(created, 1725648865)</td>\n",
       "      <td>(object, model)</td>\n",
       "      <td>(owned_by, system)</td>\n",
       "    </tr>\n",
       "    <tr>\n",
       "      <th>4</th>\n",
       "      <td>(id, o1-mini-2024-09-12)</td>\n",
       "      <td>(created, 1725648979)</td>\n",
       "      <td>(object, model)</td>\n",
       "      <td>(owned_by, system)</td>\n",
       "    </tr>\n",
       "  </tbody>\n",
       "</table>\n",
       "</div>"
      ],
      "text/plain": [
       "                             0                      1                2  \\\n",
       "0     (id, gpt-4-1106-preview)  (created, 1698957206)  (object, model)   \n",
       "1             (id, o1-preview)  (created, 1725648897)  (object, model)   \n",
       "2                  (id, gpt-4)  (created, 1687882411)  (object, model)   \n",
       "3  (id, o1-preview-2024-09-12)  (created, 1725648865)  (object, model)   \n",
       "4     (id, o1-mini-2024-09-12)  (created, 1725648979)  (object, model)   \n",
       "\n",
       "                    3  \n",
       "0  (owned_by, system)  \n",
       "1  (owned_by, system)  \n",
       "2  (owned_by, openai)  \n",
       "3  (owned_by, system)  \n",
       "4  (owned_by, system)  "
      ]
     },
     "execution_count": 37,
     "metadata": {},
     "output_type": "execute_result"
    }
   ],
   "source": [
    "model_df.head()"
   ]
  },
  {
   "cell_type": "markdown",
   "metadata": {},
   "source": [
    "# ChatCompletion API and Completion API\n",
    "\n",
    "* Completion API: Hooks you up with text completion from a single prompt.\n",
    "* ChatCompletion API: Nails it in the chat game, keeping conversational flow intact"
   ]
  },
  {
   "cell_type": "markdown",
   "metadata": {},
   "source": [
    "## ChatCompletion API"
   ]
  },
  {
   "cell_type": "code",
   "execution_count": null,
   "metadata": {},
   "outputs": [
    {
     "name": "stdout",
     "output_type": "stream",
     "text": [
      "ChatCompletion(id='chatcmpl-AVa6cECoXK9d43vF9rCyBwVKQTgbg', choices=[Choice(finish_reason='stop', index=0, logprobs=None, message=ChatCompletionMessage(content=\"That's a great choice! Chicken biryani is a popular and flavorful dish. Here's a simple recipe to help you make delicious chicken biryani at home:\\n\\nIngredients:\\n- 2 cups basmati rice, washed and soaked for 30 minutes\\n- 1 lb chicken, cut into pieces\\n- 1 large onion, sliced\\n- 2 tomatoes, chopped\\n- 2 tbsp ginger-garlic paste\\n- 1/2 cup plain yogurt\\n- 1 tbsp biryani masala\\n- 1 tsp turmeric powder\\n- 1 tsp red chili powder\\n- 1 tsp cumin seeds\\n- 2-3 green chilies, slit\\n- Fresh coriander and mint leaves\\n- Ghee or oil\\n- Salt to taste\\n\\nInstructions:\\n1. Heat ghee or oil in a large pan and add cumin seeds. Once they start to splutter, add sliced onions and sauté until they turn golden brown.\\n2. Add ginger-garlic paste and green chilies. Sauté for a minute.\\n3. Add chicken pieces, turmeric powder, red chili powder, biryani masala, salt, chopped tomatoes, and yogurt. Mix well and cook until the chicken is tender and cooked through.\\n4. In a separate pot, bring water to a boil and add soaked basmati rice. Cook the rice until it is 70% done. Drain and keep aside.\\n5. Layer the partially cooked rice over the chicken masala in the pan. Sprinkle fresh coriander and mint leaves on top.\\n6. Cover the pan with a tight-fitting lid and cook on low heat for 15-20 minutes until the rice is fully cooked and the flavors are well combined.\\n7. Serve hot with raita or a side salad.\\n\\nEnjoy your delicious homemade chicken biryani! Let me know if you need any more help.\", refusal=None, role='assistant', audio=None, function_call=None, tool_calls=None))], created=1732090322, model='gpt-3.5-turbo-0125', object='chat.completion', service_tier=None, system_fingerprint=None, usage=CompletionUsage(completion_tokens=392, prompt_tokens=27, total_tokens=419, completion_tokens_details=CompletionTokensDetails(accepted_prediction_tokens=0, audio_tokens=0, reasoning_tokens=0, rejected_prediction_tokens=0), prompt_tokens_details=PromptTokensDetails(audio_tokens=0, cached_tokens=0)))\n"
     ]
    }
   ],
   "source": [
    "import openai\n",
    "\n",
    "prompt = \"Hello, I want create chicken biryani.\"\n",
    "\n",
    "response = openai.chat.completions.create(\n",
    "    model=\"gpt-3.5-turbo\",\n",
    "    messages = [\n",
    "        {\"role\":\"system\", \"content\":\"You are a helpful chef.\"},\n",
    "        {\"role\": \"user\", \"content\": prompt}\n",
    "    ]\n",
    ")\n",
    "\n",
    "print(response)"
   ]
  },
  {
   "cell_type": "code",
   "execution_count": 47,
   "metadata": {},
   "outputs": [
    {
     "name": "stdout",
     "output_type": "stream",
     "text": [
      "That's a great choice! Chicken biryani is a popular and flavorful dish. Here's a simple recipe to help you make delicious chicken biryani at home:\n",
      "\n",
      "Ingredients:\n",
      "- 2 cups basmati rice, washed and soaked for 30 minutes\n",
      "- 1 lb chicken, cut into pieces\n",
      "- 1 large onion, sliced\n",
      "- 2 tomatoes, chopped\n",
      "- 2 tbsp ginger-garlic paste\n",
      "- 1/2 cup plain yogurt\n",
      "- 1 tbsp biryani masala\n",
      "- 1 tsp turmeric powder\n",
      "- 1 tsp red chili powder\n",
      "- 1 tsp cumin seeds\n",
      "- 2-3 green chilies, slit\n",
      "- Fresh coriander and mint leaves\n",
      "- Ghee or oil\n",
      "- Salt to taste\n",
      "\n",
      "Instructions:\n",
      "1. Heat ghee or oil in a large pan and add cumin seeds. Once they start to splutter, add sliced onions and sauté until they turn golden brown.\n",
      "2. Add ginger-garlic paste and green chilies. Sauté for a minute.\n",
      "3. Add chicken pieces, turmeric powder, red chili powder, biryani masala, salt, chopped tomatoes, and yogurt. Mix well and cook until the chicken is tender and cooked through.\n",
      "4. In a separate pot, bring water to a boil and add soaked basmati rice. Cook the rice until it is 70% done. Drain and keep aside.\n",
      "5. Layer the partially cooked rice over the chicken masala in the pan. Sprinkle fresh coriander and mint leaves on top.\n",
      "6. Cover the pan with a tight-fitting lid and cook on low heat for 15-20 minutes until the rice is fully cooked and the flavors are well combined.\n",
      "7. Serve hot with raita or a side salad.\n",
      "\n",
      "Enjoy your delicious homemade chicken biryani! Let me know if you need any more help.\n"
     ]
    }
   ],
   "source": [
    "print(response.choices[0].message.content)"
   ]
  },
  {
   "cell_type": "code",
   "execution_count": 48,
   "metadata": {},
   "outputs": [
    {
     "name": "stdout",
     "output_type": "stream",
     "text": [
      "Hello! With your background in Full Stack Web Development and skills in Python, JavaScript, Django, Reactjs, PostgreSQL, and MongoDB, there are several job roles that would be suitable for you. Here are some options:\n",
      "\n",
      "1. Full Stack Developer: Your skills in both front-end and back-end technologies make you a strong candidate for a Full Stack Developer role, where you can work on developing and maintaining web applications from start to finish.\n",
      "\n",
      "2. Software Engineer: Given your expertise in software development using Python and JavaScript, you could pursue a role as a Software Engineer, where you can work on designing, developing, and testing software applications.\n",
      "\n",
      "3. Web Developer: With your knowledge of Django, Reactjs, and other web technologies, you could consider a role as a Web Developer, specializing in building user-friendly websites and web applications.\n",
      "\n",
      "4. Backend Developer: Your proficiency in languages like Python, as well as databases like PostgreSQL and MongoDB, makes you a good fit for a role as a Backend Developer, focusing on server-side logic and database design.\n",
      "\n",
      "5. Technical Lead: If you have experience leading development teams or projects, you could explore opportunities as a Technical Lead, where you would oversee the technical aspects of projects and provide guidance to junior developers.\n",
      "\n",
      "I recommend researching these job roles further to determine which aligns best with your career goals and interests. Additionally, considering networking with professionals in these fields and gaining relevant experience through internships or personal projects can help you advance in your chosen career path.\n"
     ]
    }
   ],
   "source": [
    "import openai\n",
    "\n",
    "prompt1 = \"Hello, How are you ?\"\n",
    "prompt2 = \"I am a 24 year old Software Engineer. My skills are Full Stack Web Development. I know Python and javascript. I also know Django, Reactjs, PostgreSQL and MongoDB.\"\n",
    "prompt3 = \"Tell me about different job roles that I can get.\"\n",
    "\n",
    "response = openai.chat.completions.create(\n",
    "    model=\"gpt-3.5-turbo\",\n",
    "    messages=[\n",
    "        {\"role\":\"system\", \"content\":\"You are job role student counselor and you give students advice about job roles that are suitable for them as per their skills and knowledge.\"},\n",
    "        {\"role\":\"user\", \"content\":prompt1},\n",
    "        {\"role\":\"user\", \"content\":prompt2},\n",
    "        {\"role\":\"user\", \"content\":prompt3}\n",
    "    ] \n",
    ")\n",
    "\n",
    "print(response.choices[0].message.content)"
   ]
  },
  {
   "cell_type": "code",
   "execution_count": 49,
   "metadata": {},
   "outputs": [
    {
     "name": "stdout",
     "output_type": "stream",
     "text": [
      "Deep learning is a type of machine learning that involves artificial neural networks with multiple layers (hence the term \"deep\"). These\n"
     ]
    }
   ],
   "source": [
    "import openai\n",
    "\n",
    "prompt = \"What is Deep Learning ?\"\n",
    "\n",
    "response = openai.chat.completions.create(\n",
    "    model=\"gpt-3.5-turbo\",\n",
    "    messages = [\n",
    "        {\"role\":\"system\", \"content\":\"You are a helpful chef.\"},\n",
    "        {\"role\": \"user\", \"content\": prompt}\n",
    "    ],\n",
    "    max_tokens = 25\n",
    ")\n",
    "\n",
    "print(response.choices[0].message.content)"
   ]
  },
  {
   "cell_type": "code",
   "execution_count": 51,
   "metadata": {},
   "outputs": [
    {
     "name": "stdout",
     "output_type": "stream",
     "text": [
      "Deep learning is a subset of artificial intelligence that involves the use of neural networks to model and solve complex problems. These neural networks are composed of multiple layers of interconnected nodes, which are trained using large amounts of data to recognize patterns and make predictions. Deep learning has been very successful in tasks such as image recognition, natural language processing, and speech recognition.\n"
     ]
    }
   ],
   "source": [
    "import openai\n",
    "\n",
    "prompt = \"What is Deep Learning ?\"\n",
    "\n",
    "response = openai.chat.completions.create(\n",
    "    model=\"gpt-3.5-turbo\",\n",
    "    messages = [\n",
    "        {\"role\":\"system\", \"content\":\"You are a helpful chef.\"},\n",
    "        {\"role\": \"user\", \"content\": prompt}\n",
    "    ],\n",
    "    temperature = 0.7\n",
    ")\n",
    "\n",
    "print(response.choices[0].message.content)"
   ]
  },
  {
   "cell_type": "code",
   "execution_count": 52,
   "metadata": {},
   "outputs": [
    {
     "name": "stdout",
     "output_type": "stream",
     "text": [
      "ChatCompletion(id='chatcmpl-AVaUqFP1V2JUJhFY16ANBT94FVnNe', choices=[Choice(finish_reason='stop', index=0, logprobs=None, message=ChatCompletionMessage(content='Deep learning is a subset of machine learning that involves artificial neural networks to model and understand complex patterns in data. These neural networks are composed of multiple layers of interconnected nodes that process and learn from the input data. Deep learning has been particularly successful in tasks such as image and speech recognition, natural language processing, and playing games. It is a powerful tool for solving problems that require a high level of abstraction and can provide state-of-the-art performance in various domains.', refusal=None, role='assistant', audio=None, function_call=None, tool_calls=None)), Choice(finish_reason='stop', index=1, logprobs=None, message=ChatCompletionMessage(content='Deep learning is a subset of machine learning that involves artificial neural networks with multiple layers (hence the term \"deep\"). These neural networks are designed to mimic the way the human brain processes information and learns from data. Deep learning algorithms are capable of automatically learning and extracting features from large amounts of data, which allows them to make complex decisions and predictions.\\n\\nDeep learning has been successfully applied to a wide range of tasks, including image and speech recognition, natural language processing, and autonomous driving. It has revolutionized many industries and has the potential to bring about significant advancements in areas like healthcare, finance, and transportation.', refusal=None, role='assistant', audio=None, function_call=None, tool_calls=None))], created=1732091824, model='gpt-3.5-turbo-0125', object='chat.completion', service_tier=None, system_fingerprint=None, usage=CompletionUsage(completion_tokens=214, prompt_tokens=22, total_tokens=236, completion_tokens_details=CompletionTokensDetails(accepted_prediction_tokens=0, audio_tokens=0, reasoning_tokens=0, rejected_prediction_tokens=0), prompt_tokens_details=PromptTokensDetails(audio_tokens=0, cached_tokens=0)))\n"
     ]
    }
   ],
   "source": [
    "import openai\n",
    "\n",
    "prompt = \"What is Deep Learning ?\"\n",
    "\n",
    "response = openai.chat.completions.create(\n",
    "    model=\"gpt-3.5-turbo\",\n",
    "    messages = [\n",
    "        {\"role\":\"system\", \"content\":\"You are a helpful chef.\"},\n",
    "        {\"role\": \"user\", \"content\": prompt}\n",
    "    ],\n",
    "    temperature = 0.7,\n",
    "    n = 2\n",
    ")\n",
    "\n",
    "print(response)"
   ]
  },
  {
   "cell_type": "code",
   "execution_count": 55,
   "metadata": {},
   "outputs": [
    {
     "name": "stdout",
     "output_type": "stream",
     "text": [
      "Deep learning is a subset of machine learning that involves artificial neural networks to model and understand complex patterns in data. These neural networks are composed of multiple layers of interconnected nodes that process and learn from the input data. Deep learning has been particularly successful in tasks such as image and speech recognition, natural language processing, and playing games. It is a powerful tool for solving problems that require a high level of abstraction and can provide state-of-the-art performance in various domains.\n"
     ]
    }
   ],
   "source": [
    "print(response.choices[0].message.content)"
   ]
  },
  {
   "cell_type": "code",
   "execution_count": 56,
   "metadata": {},
   "outputs": [
    {
     "name": "stdout",
     "output_type": "stream",
     "text": [
      "Deep learning is a subset of machine learning that involves artificial neural networks with multiple layers (hence the term \"deep\"). These neural networks are designed to mimic the way the human brain processes information and learns from data. Deep learning algorithms are capable of automatically learning and extracting features from large amounts of data, which allows them to make complex decisions and predictions.\n",
      "\n",
      "Deep learning has been successfully applied to a wide range of tasks, including image and speech recognition, natural language processing, and autonomous driving. It has revolutionized many industries and has the potential to bring about significant advancements in areas like healthcare, finance, and transportation.\n"
     ]
    }
   ],
   "source": [
    "print(response.choices[1].message.content)"
   ]
  },
  {
   "cell_type": "code",
   "execution_count": 57,
   "metadata": {},
   "outputs": [
    {
     "name": "stdout",
     "output_type": "stream",
     "text": [
      "The sentiment of the sentence \"This movie is amazing\" is positive.\n"
     ]
    }
   ],
   "source": [
    "import openai\n",
    "\n",
    "prompt = \"Give me the sentiment of this sentence: This movie is amazing.\"\n",
    "\n",
    "response = openai.chat.completions.create(\n",
    "    model=\"gpt-3.5-turbo\",\n",
    "    messages = [\n",
    "        {\"role\":\"system\", \"content\":\"You are a helpful assitant.\"},\n",
    "        {\"role\": \"user\", \"content\": prompt}\n",
    "    ],\n",
    ")\n",
    "\n",
    "print(response.choices[0].message.content)"
   ]
  },
  {
   "cell_type": "code",
   "execution_count": 58,
   "metadata": {},
   "outputs": [
    {
     "name": "stdout",
     "output_type": "stream",
     "text": [
      "यह फिल्म बहुत शानदार है।\n"
     ]
    }
   ],
   "source": [
    "import openai\n",
    "\n",
    "prompt = \"Give me the hind translation of this sentence: This movie is amazing\"\n",
    "\n",
    "response = openai.chat.completions.create(\n",
    "    model=\"gpt-3.5-turbo\",\n",
    "    messages = [\n",
    "        {\"role\":\"system\", \"content\":\"You are a helpful translator.\"},\n",
    "        {\"role\": \"user\", \"content\": prompt}\n",
    "    ],\n",
    ")\n",
    "\n",
    "print(response.choices[0].message.content)"
   ]
  },
  {
   "cell_type": "code",
   "execution_count": 59,
   "metadata": {},
   "outputs": [
    {
     "name": "stdout",
     "output_type": "stream",
     "text": [
      "This sentence is in Hindi.\n"
     ]
    }
   ],
   "source": [
    "import openai\n",
    "\n",
    "prompt = \"Detect the language of this sentence: यह फिल्म बहुत शानदार है।\"\n",
    "\n",
    "response = openai.chat.completions.create(\n",
    "    model=\"gpt-3.5-turbo\",\n",
    "    messages = [\n",
    "        {\"role\":\"system\", \"content\":\"You are a helpful translator.\"},\n",
    "        {\"role\": \"user\", \"content\": prompt}\n",
    "    ],\n",
    ")\n",
    "\n",
    "print(response.choices[0].message.content)"
   ]
  },
  {
   "cell_type": "code",
   "execution_count": 60,
   "metadata": {},
   "outputs": [
    {
     "name": "stdout",
     "output_type": "stream",
     "text": [
      "Certainly! Here is an example code in Python to add three numbers:\n",
      "\n",
      "```python\n",
      "def add_three_numbers(num1, num2, num3):\n",
      "    return num1 + num2 + num3\n",
      "\n",
      "num1 = 5\n",
      "num2 = 10\n",
      "num3 = 15\n",
      "\n",
      "result = add_three_numbers(num1, num2, num3)\n",
      "\n",
      "print(\"The sum of the three numbers is:\", result)\n",
      "```\n",
      "\n",
      "You can replace the values of `num1`, `num2`, and `num3` with any numbers you want to add.\n"
     ]
    }
   ],
   "source": [
    "import openai\n",
    "\n",
    "prompt = \"Give me a python code to add 3 numbers.\"\n",
    "\n",
    "response = openai.chat.completions.create(\n",
    "    model=\"gpt-3.5-turbo\",\n",
    "    messages = [\n",
    "        {\"role\":\"system\", \"content\":\"You are a helpful translator.\"},\n",
    "        {\"role\": \"user\", \"content\": prompt}\n",
    "    ],\n",
    ")\n",
    "\n",
    "print(response.choices[0].message.content)"
   ]
  },
  {
   "cell_type": "markdown",
   "metadata": {},
   "source": [
    "## Completion API"
   ]
  },
  {
   "cell_type": "code",
   "execution_count": 9,
   "metadata": {},
   "outputs": [
    {
     "ename": "APIRemovedInV1",
     "evalue": "\n\nYou tried to access openai.Completion, but this is no longer supported in openai>=1.0.0 - see the README at https://github.com/openai/openai-python for the API.\n\nYou can run `openai migrate` to automatically upgrade your codebase to use the 1.0.0 interface. \n\nAlternatively, you can pin your installation to the old version, e.g. `pip install openai==0.28`\n\nA detailed migration guide is available here: https://github.com/openai/openai-python/discussions/742\n",
     "output_type": "error",
     "traceback": [
      "\u001b[0;31m---------------------------------------------------------------------------\u001b[0m",
      "\u001b[0;31mAPIRemovedInV1\u001b[0m                            Traceback (most recent call last)",
      "Cell \u001b[0;32mIn[9], line 5\u001b[0m\n\u001b[1;32m      1\u001b[0m \u001b[38;5;28;01mimport\u001b[39;00m \u001b[38;5;21;01mopenai\u001b[39;00m\n\u001b[1;32m      3\u001b[0m response \u001b[38;5;241m=\u001b[39m prompt \u001b[38;5;241m=\u001b[39m \u001b[38;5;124m\"\u001b[39m\u001b[38;5;124mWhat is Python?\u001b[39m\u001b[38;5;124m\"\u001b[39m\n\u001b[0;32m----> 5\u001b[0m \u001b[43mopenai\u001b[49m\u001b[38;5;241;43m.\u001b[39;49m\u001b[43mCompletion\u001b[49m\u001b[38;5;241;43m.\u001b[39;49m\u001b[43mcreate\u001b[49m\u001b[43m(\u001b[49m\n\u001b[1;32m      6\u001b[0m \u001b[43m    \u001b[49m\u001b[43mmodel\u001b[49m\u001b[43m \u001b[49m\u001b[38;5;241;43m=\u001b[39;49m\u001b[43m \u001b[49m\u001b[38;5;124;43m\"\u001b[39;49m\u001b[38;5;124;43mbabbage-002\u001b[39;49m\u001b[38;5;124;43m\"\u001b[39;49m\u001b[43m,\u001b[49m\n\u001b[1;32m      7\u001b[0m \u001b[43m    \u001b[49m\u001b[43mprompt\u001b[49m\u001b[43m \u001b[49m\u001b[38;5;241;43m=\u001b[39;49m\u001b[43m \u001b[49m\u001b[43mprompt\u001b[49m\n\u001b[1;32m      8\u001b[0m \u001b[43m)\u001b[49m\n\u001b[1;32m     10\u001b[0m \u001b[38;5;28mprint\u001b[39m(response)\n",
      "File \u001b[0;32m~/Development/artificial-intelligence/generative ai/course/OpenAI-Demo-Projects/Basics/env/lib/python3.13/site-packages/openai/lib/_old_api.py:39\u001b[0m, in \u001b[0;36mAPIRemovedInV1Proxy.__call__\u001b[0;34m(self, *_args, **_kwargs)\u001b[0m\n\u001b[1;32m     38\u001b[0m \u001b[38;5;28;01mdef\u001b[39;00m \u001b[38;5;21m__call__\u001b[39m(\u001b[38;5;28mself\u001b[39m, \u001b[38;5;241m*\u001b[39m_args: Any, \u001b[38;5;241m*\u001b[39m\u001b[38;5;241m*\u001b[39m_kwargs: Any) \u001b[38;5;241m-\u001b[39m\u001b[38;5;241m>\u001b[39m Any:\n\u001b[0;32m---> 39\u001b[0m     \u001b[38;5;28;01mraise\u001b[39;00m APIRemovedInV1(symbol\u001b[38;5;241m=\u001b[39m\u001b[38;5;28mself\u001b[39m\u001b[38;5;241m.\u001b[39m_symbol)\n",
      "\u001b[0;31mAPIRemovedInV1\u001b[0m: \n\nYou tried to access openai.Completion, but this is no longer supported in openai>=1.0.0 - see the README at https://github.com/openai/openai-python for the API.\n\nYou can run `openai migrate` to automatically upgrade your codebase to use the 1.0.0 interface. \n\nAlternatively, you can pin your installation to the old version, e.g. `pip install openai==0.28`\n\nA detailed migration guide is available here: https://github.com/openai/openai-python/discussions/742\n"
     ]
    }
   ],
   "source": [
    "import openai\n",
    "\n",
    "response = prompt = \"What is Python?\"\n",
    "\n",
    "openai.Completion.create(\n",
    "    model = \"babbage-002\",\n",
    "    prompt = prompt\n",
    ")\n",
    "\n",
    "print(response)"
   ]
  },
  {
   "cell_type": "markdown",
   "metadata": {},
   "source": [
    "# Function Calling in OpenAI\n",
    "\n",
    "Function Calling allows the LLM to directly interact with the third party APIs and their outputs."
   ]
  },
  {
   "cell_type": "code",
   "execution_count": 1,
   "metadata": {},
   "outputs": [],
   "source": [
    "import os\n",
    "from dotenv import load_dotenv\n",
    "import openai"
   ]
  },
  {
   "cell_type": "code",
   "execution_count": 2,
   "metadata": {},
   "outputs": [
    {
     "name": "stdout",
     "output_type": "stream",
     "text": [
      "Name: openai\n",
      "Version: 1.54.5\n",
      "Summary: The official Python library for the openai API\n",
      "Home-page: https://github.com/openai/openai-python\n",
      "Author: \n",
      "Author-email: OpenAI <support@openai.com>\n",
      "License: Apache-2.0\n",
      "Location: /home/revolution/Development/artificial-intelligence/generative ai/course/OpenAI-Demo-Projects/Basics/env/lib/python3.13/site-packages\n",
      "Requires: anyio, distro, httpx, jiter, pydantic, sniffio, tqdm, typing-extensions\n",
      "Required-by: \n"
     ]
    }
   ],
   "source": [
    "!pip show openai"
   ]
  },
  {
   "cell_type": "code",
   "execution_count": 3,
   "metadata": {},
   "outputs": [],
   "source": [
    "load_dotenv()\n",
    "\n",
    "OPENAI_API_KEY = os.getenv(\"OPENAI_API_KEY\")\n",
    "\n",
    "openai.api_key = OPENAI_API_KEY"
   ]
  },
  {
   "cell_type": "code",
   "execution_count": 4,
   "metadata": {},
   "outputs": [
    {
     "name": "stdout",
     "output_type": "stream",
     "text": [
      "To make KFC style fried chicken at home, you'll need the following ingredients:\n",
      "\n",
      "- Chicken pieces (drumsticks, thighs, wings, etc.)\n",
      "- Buttermilk\n",
      "- All-purpose flour\n",
      "- Cornstarch\n",
      "- Paprika\n",
      "- Garlic powder\n",
      "- Onion powder\n",
      "- Salt\n",
      "- Black pepper\n",
      "- Cayenne pepper (optional for some heat)\n",
      "- Vegetable oil for frying\n",
      "\n",
      "Here's a general overview of the process:\n",
      "\n",
      "1. Marinate the chicken: Soak the chicken pieces in buttermilk for at least 1-2 hours, or overnight if possible. The buttermilk will help tenderize the chicken and add flavor.\n",
      "\n",
      "2. Prepare the coating: In a large bowl, mix the flour, cornstarch, paprika, garlic powder, onion powder, salt, black pepper, and cayenne pepper (if using). Adjust the seasoning to taste.\n",
      "\n",
      "3. Coat the chicken: Remove the chicken from the buttermilk and dredge each piece in the seasoned flour mixture, making sure to coat the chicken evenly.\n",
      "\n",
      "4. Fry the chicken: Heat the vegetable oil in a deep fryer or large skillet to 350-375°F (175-190°C). Carefully add the coated chicken pieces, making sure not to overcrowd the pan. Fry the chicken in batches for about 12-15 minutes, turning occasionally, until golden brown and cooked through.\n",
      "\n",
      "5. Drain and serve: Once the chicken is done, transfer it to a wire rack or paper towel-lined plate to drain off any excess oil. Serve the KFC-style fried chicken hot with your favorite sides.\n",
      "\n",
      "Enjoy your homemade KFC-style chicken!\n"
     ]
    }
   ],
   "source": [
    "prompt = \"How to make KFC style chicken?\"\n",
    "\n",
    "response = openai.chat.completions.create(\n",
    "    model=\"gpt-3.5-turbo\",\n",
    "    messages = [\n",
    "        {\"role\":\"system\", \"content\":\"You are a helpful master chef.\"},\n",
    "        {\"role\":\"user\", \"content\":prompt}\n",
    "    ]\n",
    ")\n",
    "\n",
    "print(response.choices[0].message.content)"
   ]
  },
  {
   "cell_type": "markdown",
   "metadata": {},
   "source": [
    "### Implementation of Function Calling"
   ]
  },
  {
   "cell_type": "code",
   "execution_count": 137,
   "metadata": {},
   "outputs": [],
   "source": [
    "# Example dummy function hard coded to return the same weather\n",
    "# In production, this could be your backend API or an external API\n",
    "\n",
    "import requests\n",
    "\n",
    "def get_different_areas(location):\n",
    "    \"\"\" Get the current weather in a given location \"\"\"\n",
    "    \n",
    "    url = \"https://ai-weather-by-meteosource.p.rapidapi.com/find_places\"\n",
    "    \n",
    "    querystring = {\"text\":location}\n",
    "    \n",
    "    headers = {\n",
    "        \"x-rapidapi-key\": \"10d2e9a5b6msh5e38e4fc7c1a4d8p17e8bbjsnac6b678d11d0\",\n",
    "        \"x-rapidapi-host\": \"ai-weather-by-meteosource.p.rapidapi.com\"\n",
    "        }\n",
    "    \n",
    "    response = requests.get(url, headers=headers, params=querystring)\n",
    "    \n",
    "    print(response.json())\n",
    "    \n",
    "    return response.json()"
   ]
  },
  {
   "cell_type": "code",
   "execution_count": 138,
   "metadata": {},
   "outputs": [
    {
     "name": "stdout",
     "output_type": "stream",
     "text": [
      "[{'name': 'Delhi', 'place_id': 'delhi', 'adm_area1': 'National Capital Territory of Delhi', 'adm_area2': None, 'country': 'India', 'lat': '28.65195N', 'lon': '77.23149E', 'timezone': 'Asia/Kolkata', 'type': 'settlement'}, {'name': 'Dili', 'place_id': 'dili', 'adm_area1': 'Díli', 'adm_area2': 'Vera Cruz', 'country': 'Timor-Leste', 'lat': '8.55861S', 'lon': '125.57361E', 'timezone': 'Asia/Dili', 'type': 'settlement'}, {'name': 'Delhi', 'place_id': 'delhi-5342522', 'adm_area1': 'California', 'adm_area2': 'Merced', 'country': 'United States of America', 'lat': '37.43216N', 'lon': '120.77854W', 'timezone': 'America/Los_Angeles', 'type': 'settlement'}, {'name': 'Delhi', 'place_id': 'delhi-5114824', 'adm_area1': 'New York', 'adm_area2': 'Delaware', 'country': 'United States of America', 'lat': '42.27814N', 'lon': '74.91599W', 'timezone': 'America/New_York', 'type': 'settlement'}, {'name': 'Delhi', 'place_id': 'delhi-4321929', 'adm_area1': 'Louisiana', 'adm_area2': 'Richland', 'country': 'United States of America', 'lat': '32.45764N', 'lon': '91.49317W', 'timezone': 'America/Chicago', 'type': 'settlement'}, {'name': 'Delhi', 'place_id': 'delhi-4853722', 'adm_area1': 'Iowa', 'adm_area2': 'Delaware', 'country': 'United States of America', 'lat': '42.42971N', 'lon': '91.33098W', 'timezone': 'America/Chicago', 'type': 'settlement'}, {'name': 'Radnor', 'place_id': 'radnor-5167687', 'adm_area1': 'Ohio', 'adm_area2': 'Delaware', 'country': 'United States of America', 'lat': '40.38423N', 'lon': '83.15075W', 'timezone': 'America/New_York', 'type': 'settlement'}, {'name': 'Delhi', 'place_id': 'delhi-5024164', 'adm_area1': 'Minnesota', 'adm_area2': 'Redwood', 'country': 'United States of America', 'lat': '44.59913N', 'lon': '95.21111W', 'timezone': 'America/Chicago', 'type': 'settlement'}, {'name': 'Delhi', 'place_id': 'delhi-4685810', 'adm_area1': 'Texas', 'adm_area2': 'Caldwell', 'country': 'United States of America', 'lat': '29.82745N', 'lon': '97.39555W', 'timezone': 'America/Chicago', 'type': 'settlement'}, {'name': 'National Capital Territory of Delhi', 'place_id': 'national-capital-territory-of-delhi', 'adm_area1': 'National Capital Territory of Delhi', 'adm_area2': None, 'country': 'India', 'lat': '28.6667N', 'lon': '77.1E', 'timezone': 'Asia/Kolkata', 'type': 'administrative_area'}]\n"
     ]
    }
   ],
   "source": [
    "response = get_different_areas(\"Delhi\")"
   ]
  },
  {
   "cell_type": "code",
   "execution_count": 139,
   "metadata": {},
   "outputs": [
    {
     "data": {
      "text/plain": [
       "[{'name': 'Delhi',\n",
       "  'place_id': 'delhi',\n",
       "  'adm_area1': 'National Capital Territory of Delhi',\n",
       "  'adm_area2': None,\n",
       "  'country': 'India',\n",
       "  'lat': '28.65195N',\n",
       "  'lon': '77.23149E',\n",
       "  'timezone': 'Asia/Kolkata',\n",
       "  'type': 'settlement'},\n",
       " {'name': 'Dili',\n",
       "  'place_id': 'dili',\n",
       "  'adm_area1': 'Díli',\n",
       "  'adm_area2': 'Vera Cruz',\n",
       "  'country': 'Timor-Leste',\n",
       "  'lat': '8.55861S',\n",
       "  'lon': '125.57361E',\n",
       "  'timezone': 'Asia/Dili',\n",
       "  'type': 'settlement'},\n",
       " {'name': 'Delhi',\n",
       "  'place_id': 'delhi-5342522',\n",
       "  'adm_area1': 'California',\n",
       "  'adm_area2': 'Merced',\n",
       "  'country': 'United States of America',\n",
       "  'lat': '37.43216N',\n",
       "  'lon': '120.77854W',\n",
       "  'timezone': 'America/Los_Angeles',\n",
       "  'type': 'settlement'},\n",
       " {'name': 'Delhi',\n",
       "  'place_id': 'delhi-5114824',\n",
       "  'adm_area1': 'New York',\n",
       "  'adm_area2': 'Delaware',\n",
       "  'country': 'United States of America',\n",
       "  'lat': '42.27814N',\n",
       "  'lon': '74.91599W',\n",
       "  'timezone': 'America/New_York',\n",
       "  'type': 'settlement'},\n",
       " {'name': 'Delhi',\n",
       "  'place_id': 'delhi-4321929',\n",
       "  'adm_area1': 'Louisiana',\n",
       "  'adm_area2': 'Richland',\n",
       "  'country': 'United States of America',\n",
       "  'lat': '32.45764N',\n",
       "  'lon': '91.49317W',\n",
       "  'timezone': 'America/Chicago',\n",
       "  'type': 'settlement'},\n",
       " {'name': 'Delhi',\n",
       "  'place_id': 'delhi-4853722',\n",
       "  'adm_area1': 'Iowa',\n",
       "  'adm_area2': 'Delaware',\n",
       "  'country': 'United States of America',\n",
       "  'lat': '42.42971N',\n",
       "  'lon': '91.33098W',\n",
       "  'timezone': 'America/Chicago',\n",
       "  'type': 'settlement'},\n",
       " {'name': 'Radnor',\n",
       "  'place_id': 'radnor-5167687',\n",
       "  'adm_area1': 'Ohio',\n",
       "  'adm_area2': 'Delaware',\n",
       "  'country': 'United States of America',\n",
       "  'lat': '40.38423N',\n",
       "  'lon': '83.15075W',\n",
       "  'timezone': 'America/New_York',\n",
       "  'type': 'settlement'},\n",
       " {'name': 'Delhi',\n",
       "  'place_id': 'delhi-5024164',\n",
       "  'adm_area1': 'Minnesota',\n",
       "  'adm_area2': 'Redwood',\n",
       "  'country': 'United States of America',\n",
       "  'lat': '44.59913N',\n",
       "  'lon': '95.21111W',\n",
       "  'timezone': 'America/Chicago',\n",
       "  'type': 'settlement'},\n",
       " {'name': 'Delhi',\n",
       "  'place_id': 'delhi-4685810',\n",
       "  'adm_area1': 'Texas',\n",
       "  'adm_area2': 'Caldwell',\n",
       "  'country': 'United States of America',\n",
       "  'lat': '29.82745N',\n",
       "  'lon': '97.39555W',\n",
       "  'timezone': 'America/Chicago',\n",
       "  'type': 'settlement'},\n",
       " {'name': 'National Capital Territory of Delhi',\n",
       "  'place_id': 'national-capital-territory-of-delhi',\n",
       "  'adm_area1': 'National Capital Territory of Delhi',\n",
       "  'adm_area2': None,\n",
       "  'country': 'India',\n",
       "  'lat': '28.6667N',\n",
       "  'lon': '77.1E',\n",
       "  'timezone': 'Asia/Kolkata',\n",
       "  'type': 'administrative_area'}]"
      ]
     },
     "execution_count": 139,
     "metadata": {},
     "output_type": "execute_result"
    }
   ],
   "source": [
    "response"
   ]
  },
  {
   "cell_type": "code",
   "execution_count": 140,
   "metadata": {},
   "outputs": [],
   "source": [
    "functions =[\n",
    "{\n",
    "        \"name\": \"get_different_areas\",\n",
    "        \"description\": \"Get different areas in a given location\",\n",
    "        \"parameters\":{\n",
    "            \"type\":\"object\",\n",
    "            \"properties\":{\n",
    "                \"location\":{\n",
    "                    \"type\":\"string\",\n",
    "                    \"description\":\"The city and state, e.g San Francisco, CA\"\n",
    "                },\n",
    "            },\n",
    "            \"required\":[\"location\"]\n",
    "        },\n",
    "    }\n",
    "]"
   ]
  },
  {
   "cell_type": "code",
   "execution_count": 141,
   "metadata": {},
   "outputs": [],
   "source": [
    "user_message = \"Hi there\"\n",
    "system_prompt = \"You are a  helpful tour guide.\"\n",
    "messages = []\n",
    "messages.append({\"role\":\"system\", \"content\":system_prompt})\n",
    "messages.append({\"role\":\"user\", \"content\":user_message})\n",
    "\n",
    "completion = openai.chat.completions.create(\n",
    "    model = \"gpt-3.5-turbo\",\n",
    "    messages = messages\n",
    ")"
   ]
  },
  {
   "cell_type": "code",
   "execution_count": 142,
   "metadata": {},
   "outputs": [
    {
     "data": {
      "text/plain": [
       "[{'role': 'system', 'content': 'You are a  helpful tour guide.'},\n",
       " {'role': 'user', 'content': 'Hi there'}]"
      ]
     },
     "execution_count": 142,
     "metadata": {},
     "output_type": "execute_result"
    }
   ],
   "source": [
    "messages"
   ]
  },
  {
   "cell_type": "code",
   "execution_count": 143,
   "metadata": {},
   "outputs": [
    {
     "name": "stdout",
     "output_type": "stream",
     "text": [
      "ChatCompletionMessage(content='Hello! Welcome, how can I assist you today?', refusal=None, role='assistant', audio=None, function_call=None, tool_calls=None)\n"
     ]
    }
   ],
   "source": [
    "print(completion.choices[0].message)"
   ]
  },
  {
   "cell_type": "code",
   "execution_count": 144,
   "metadata": {},
   "outputs": [],
   "source": [
    "user_message = \"What are the different areas in Delhi ?\"\n",
    "\n",
    "messages.append({\"role\":\"user\", \"content\":user_message})\n",
    "\n",
    "completion = openai.chat.completions.create(\n",
    "    model = \"gpt-3.5-turbo\",\n",
    "    messages = messages,\n",
    "    functions = functions\n",
    ")"
   ]
  },
  {
   "cell_type": "code",
   "execution_count": 145,
   "metadata": {},
   "outputs": [
    {
     "data": {
      "text/plain": [
       "[{'role': 'system', 'content': 'You are a  helpful tour guide.'},\n",
       " {'role': 'user', 'content': 'Hi there'},\n",
       " {'role': 'user', 'content': 'What are the different areas in Delhi ?'}]"
      ]
     },
     "execution_count": 145,
     "metadata": {},
     "output_type": "execute_result"
    }
   ],
   "source": [
    "messages"
   ]
  },
  {
   "cell_type": "code",
   "execution_count": 146,
   "metadata": {},
   "outputs": [
    {
     "data": {
      "text/plain": [
       "ChatCompletion(id='chatcmpl-AVxGgdB3lOE2S41nPkYKumMZ1ROUu', choices=[Choice(finish_reason='function_call', index=0, logprobs=None, message=ChatCompletionMessage(content=None, refusal=None, role='assistant', audio=None, function_call=FunctionCall(arguments='{\"location\":\"Delhi\"}', name='get_different_areas'), tool_calls=None))], created=1732179358, model='gpt-3.5-turbo-0125', object='chat.completion', service_tier=None, system_fingerprint=None, usage=CompletionUsage(completion_tokens=16, prompt_tokens=83, total_tokens=99, completion_tokens_details=CompletionTokensDetails(accepted_prediction_tokens=0, audio_tokens=0, reasoning_tokens=0, rejected_prediction_tokens=0), prompt_tokens_details=PromptTokensDetails(audio_tokens=0, cached_tokens=0)))"
      ]
     },
     "execution_count": 146,
     "metadata": {},
     "output_type": "execute_result"
    }
   ],
   "source": [
    "completion"
   ]
  },
  {
   "cell_type": "code",
   "execution_count": 147,
   "metadata": {},
   "outputs": [],
   "source": [
    "response = completion.choices[0].message"
   ]
  },
  {
   "cell_type": "code",
   "execution_count": 148,
   "metadata": {},
   "outputs": [
    {
     "data": {
      "text/plain": [
       "ChatCompletionMessage(content=None, refusal=None, role='assistant', audio=None, function_call=FunctionCall(arguments='{\"location\":\"Delhi\"}', name='get_different_areas'), tool_calls=None)"
      ]
     },
     "execution_count": 148,
     "metadata": {},
     "output_type": "execute_result"
    }
   ],
   "source": [
    "response"
   ]
  },
  {
   "cell_type": "code",
   "execution_count": 149,
   "metadata": {},
   "outputs": [],
   "source": [
    "function_name = response.function_call.name"
   ]
  },
  {
   "cell_type": "code",
   "execution_count": 150,
   "metadata": {},
   "outputs": [
    {
     "data": {
      "text/plain": [
       "'get_different_areas'"
      ]
     },
     "execution_count": 150,
     "metadata": {},
     "output_type": "execute_result"
    }
   ],
   "source": [
    "function_name"
   ]
  },
  {
   "cell_type": "code",
   "execution_count": 151,
   "metadata": {},
   "outputs": [
    {
     "name": "stdout",
     "output_type": "stream",
     "text": [
      "Delhi\n"
     ]
    }
   ],
   "source": [
    "import json\n",
    "\n",
    "location = eval(response.function_call.arguments)[\"location\"]\n",
    "print(location)"
   ]
  },
  {
   "cell_type": "code",
   "execution_count": 152,
   "metadata": {},
   "outputs": [],
   "source": [
    "# step4: send the info on the function call and function response to GPT\n",
    "\n",
    "messages.append(response)\n",
    "messages.append(\n",
    "    {\n",
    "        \"role\":\"function\",\n",
    "        \"name\": function_name,\n",
    "        \"content\": location\n",
    "    }\n",
    ")"
   ]
  },
  {
   "cell_type": "code",
   "execution_count": 153,
   "metadata": {},
   "outputs": [
    {
     "data": {
      "text/plain": [
       "[{'role': 'system', 'content': 'You are a  helpful tour guide.'},\n",
       " {'role': 'user', 'content': 'Hi there'},\n",
       " {'role': 'user', 'content': 'What are the different areas in Delhi ?'},\n",
       " ChatCompletionMessage(content=None, refusal=None, role='assistant', audio=None, function_call=FunctionCall(arguments='{\"location\":\"Delhi\"}', name='get_different_areas'), tool_calls=None),\n",
       " {'role': 'function', 'name': 'get_different_areas', 'content': 'Delhi'}]"
      ]
     },
     "execution_count": 153,
     "metadata": {},
     "output_type": "execute_result"
    }
   ],
   "source": [
    "messages"
   ]
  },
  {
   "cell_type": "code",
   "execution_count": 154,
   "metadata": {},
   "outputs": [],
   "source": [
    "second_response = openai.chat.completions.create(\n",
    "    model = \"gpt-3.5-turbo\",\n",
    "    messages = messages,\n",
    "    functions = functions\n",
    ")"
   ]
  },
  {
   "cell_type": "code",
   "execution_count": 155,
   "metadata": {},
   "outputs": [
    {
     "name": "stdout",
     "output_type": "stream",
     "text": [
      "In Delhi, some of the different areas are:\n",
      "\n",
      "1. Connaught Place\n",
      "2. Karol Bagh\n",
      "3. Saket\n",
      "4. Chandni Chowk\n",
      "5. Hauz Khas\n",
      "6. Greater Kailash\n",
      "7. Vasant Kunj\n",
      "8. Dwarka\n",
      "\n",
      "These are just a few examples of the diverse areas in Delhi that each offer a unique experience and atmosphere. Let me know if you would like more information about any specific area.\n"
     ]
    }
   ],
   "source": [
    "print(second_response.choices[0].message.content)"
   ]
  },
  {
   "cell_type": "code",
   "execution_count": null,
   "metadata": {},
   "outputs": [],
   "source": []
  }
 ],
 "metadata": {
  "kernelspec": {
   "display_name": "env",
   "language": "python",
   "name": "python3"
  },
  "language_info": {
   "codemirror_mode": {
    "name": "ipython",
    "version": 3
   },
   "file_extension": ".py",
   "mimetype": "text/x-python",
   "name": "python",
   "nbconvert_exporter": "python",
   "pygments_lexer": "ipython3",
   "version": "3.13.0"
  }
 },
 "nbformat": 4,
 "nbformat_minor": 2
}
